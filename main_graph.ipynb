{
 "cells": [
  {
   "cell_type": "markdown",
   "id": "dc95111e",
   "metadata": {},
   "source": [
    "Make the changes as per data dimensions"
   ]
  },
  {
   "cell_type": "markdown",
   "id": "39c8dfe4",
   "metadata": {},
   "source": [
    "# Data"
   ]
  },
  {
   "cell_type": "code",
   "execution_count": null,
   "id": "d740c7fc",
   "metadata": {},
   "outputs": [],
   "source": [
    "import numpy as np"
   ]
  },
  {
   "cell_type": "code",
   "execution_count": null,
   "id": "02f77e6a",
   "metadata": {},
   "outputs": [],
   "source": [
    "\"\"\"\n",
    "Number of data points: 300\n",
    "Number of classes: 20\n",
    "\"\"\"\n",
    "\n",
    "# INPUTS\n",
    "W = np.ones((300, 200))\n",
    "X = np.ones((300, 200))\n",
    "\n",
    "# OUTPUT\n",
    "Y = np.random.rand(300, 20)"
   ]
  },
  {
   "cell_type": "code",
   "execution_count": null,
   "id": "38254bbe",
   "metadata": {},
   "outputs": [],
   "source": [
    "# Train test split\n",
    "W_train, X_train, Y_train = W[:200], X[:200], Y[:200]\n",
    "W_test, X_test, Y_test = W[200:], X[200:], Y[200:]"
   ]
  },
  {
   "cell_type": "markdown",
   "id": "04368061",
   "metadata": {},
   "source": [
    "# Model Definition"
   ]
  },
  {
   "cell_type": "code",
   "execution_count": null,
   "id": "599aa21f",
   "metadata": {},
   "outputs": [],
   "source": [
    "from spektral.layers import GraphSageConv\n",
    "import tensorflow as tf\n",
    "\n",
    "from tensorflow.keras.layers import Dense, Dropout, Input, Concatenate\n",
    "from tensorflow.keras.models import Model"
   ]
  },
  {
   "cell_type": "code",
   "execution_count": null,
   "id": "9ed15063",
   "metadata": {},
   "outputs": [],
   "source": [
    "batch_size = 32\n",
    "graph_embedding_size = 300"
   ]
  },
  {
   "cell_type": "code",
   "execution_count": null,
   "id": "118c87f9",
   "metadata": {},
   "outputs": [],
   "source": [
    "def myModel():    \n",
    "    inputs_W = Input(shape=(200), name='W') # [32 X 200]\n",
    "    inputs_X = Input(shape=(200), name='X') # [32 X 200]\n",
    "    \n",
    "    inputs_sparse = Input(shape=(2*batch_size,), name='sparse_matrix', sparse=True, dtype=tf.float64)  # [64 X 64] \n",
    "    \n",
    "    # GraphSage\n",
    "    inpEmbedding = Concatenate(axis=0)([inputs_W, inputs_X]) # [64 X 200]\n",
    "    outEmbedding = GraphSageConv(channels=graph_embedding_size)([inpEmbedding, inputs_sparse]) # [64 X 300]\n",
    "    \n",
    "    W_modified = outEmbedding[0:batch_size] # [32 X 300]\n",
    "    X_modified = outEmbedding[batch_size:2*batch_size] # [32 X 300]\n",
    "\n",
    "    # Final Layers\n",
    "    f = Concatenate(axis=1)([W_modified, X_modified]) # [32 X 600]\n",
    "    dropout = Dropout(0.5)(f)\n",
    "    Softmax = Dense(20, activation=\"softmax\")(dropout)\n",
    "    model = Model(inputs=[\n",
    "        inputs_W,\n",
    "        inputs_X,\n",
    "        inputs_sparse,\n",
    "    ], outputs=Softmax)\n",
    "\n",
    "    model.compile(optimizer='adam', loss='categorical_crossentropy')\n",
    "    return model\n",
    "\n",
    "model = myModel()\n",
    "\n",
    "print(\"Inputs:\",[k.shape for k in model.inputs])\n",
    "print(\"Outputs:\", [k.shape for k in model.outputs], \"\\n\")\n",
    "\n",
    "print(model.summary())\n",
    "\n",
    "del model"
   ]
  },
  {
   "cell_type": "markdown",
   "id": "7848462e",
   "metadata": {},
   "source": [
    "# Data Generator"
   ]
  },
  {
   "cell_type": "code",
   "execution_count": null,
   "id": "c085b086",
   "metadata": {},
   "outputs": [],
   "source": [
    "def cos_sim(A, B):\n",
    "    return np.dot(A,B)/(np.linalg.norm(A)*np.linalg.norm(B))\n",
    "\n",
    "def getIndicesAndValues(batch_W, batch_X):\n",
    "    indices = []\n",
    "    values = []\n",
    "    \n",
    "    \"\"\"\n",
    "    In the constructed graph\n",
    "    \n",
    "    [0:batch_size] => W\n",
    "    [batch_size:] => X\n",
    "    \n",
    "    Ex:\n",
    "    Batch Size: 32\n",
    "    \n",
    "    0: Img1\n",
    "    1: Img2\n",
    "    .\n",
    "    .\n",
    "    \n",
    "    31: Img32\n",
    "    32: Text1\n",
    "    33: Text2\n",
    "    .\n",
    "    .\n",
    "    63: Text32\n",
    "    \n",
    "    \"\"\"\n",
    "    \n",
    "    # W <-> W edges\n",
    "    for i in range(batch_size):\n",
    "        for j in range(batch_size):\n",
    "            # Some Criterion\n",
    "            sim_score = cos_sim(batch_W[i],batch_W[j])\n",
    "            if sim_score >= 0.5:\n",
    "                indices.append([i,j])\n",
    "                values.append(sim_score)\n",
    "    \n",
    "    # X <-> X edges\n",
    "    for i in range(batch_size):\n",
    "        for j in range(batch_size):\n",
    "            # Some Criterion\n",
    "            sim_score = cos_sim(batch_X[i],batch_X[j])\n",
    "            if sim_score >= 0.5:\n",
    "                indices.append([i+batch_size,j+batch_size])\n",
    "                values.append(sim_score)\n",
    "    \n",
    "    \"\"\"\n",
    "    # For W <-> X edges, indices would be of the form [i, j+batch_size]\n",
    "    for i in range(batch_size):\n",
    "        for j in range(batch_size):\n",
    "            # Some Criterion\n",
    "            if criterion(batch_X[i],batch_X[j]) is True:\n",
    "                indices.append([i,j+batch_size])\n",
    "                values.append(edge_weight)\n",
    "    \"\"\"\n",
    "\n",
    "    indices = np.array(indices)\n",
    "    values = np.array(values)\n",
    "\n",
    "    return indices, values"
   ]
  },
  {
   "cell_type": "code",
   "execution_count": null,
   "id": "ddede495",
   "metadata": {},
   "outputs": [],
   "source": [
    "def datagenerator(W, X, Y):\n",
    "    i = 0\n",
    "    while True:\n",
    "        if i + batch_size <= len(W):\n",
    "            \n",
    "            inp_W = W[i:i+batch_size]\n",
    "            inp_X = X[i:i+batch_size]\n",
    "            \n",
    "            # Get Indices and Values\n",
    "            indices, values = getIndicesAndValues(inp_W, inp_X)\n",
    "            \n",
    "            # Construct Sparse Matrix for GraphSAGE\n",
    "            inp_sparse = tf.SparseTensor(\n",
    "                            indices = indices,\n",
    "                            values = values,\n",
    "                            dense_shape = (batch_size*2,batch_size*2)\n",
    "                        )\n",
    "            \n",
    "            out_Y = Y[i:i+batch_size]\n",
    "\n",
    "            yield [inp_W, inp_X, inp_sparse], out_Y\n",
    "            i+=batch_size\n",
    "        else:\n",
    "            i= 0\n",
    "            continue\n",
    "            \n",
    "x = next(datagenerator(W, X, Y))\n",
    "\n",
    "print(\"Inputs:\")\n",
    "for a in x[0]:\n",
    "    print(a.shape)\n",
    "    \n",
    "print(\"\\nOutput:\")\n",
    "print(x[1].shape)\n",
    "\n",
    "del x"
   ]
  },
  {
   "cell_type": "markdown",
   "id": "c5ce0f6f",
   "metadata": {},
   "source": [
    "# Model Training"
   ]
  },
  {
   "cell_type": "code",
   "execution_count": null,
   "id": "ef68b0ac",
   "metadata": {},
   "outputs": [],
   "source": [
    "model = myModel()\n",
    "\n",
    "num_epochs = 5\n",
    "\n",
    "for e in range(num_epochs):\n",
    "    print(\"Epoch:\",e+1)\n",
    "    \n",
    "    history = model.fit(x=datagenerator(W_train, X_train, Y_train),\n",
    "                        steps_per_epoch=int(len(W_train) / batch_size),\n",
    "                        epochs=1,\n",
    "                        verbose=1\n",
    "                        )\n",
    "    \n",
    "    y_pred = model.predict(x = datagenerator(W_test, X_test, Y_test),\n",
    "                          steps=int(len(W_test) / batch_size)\n",
    "                          )\n",
    "    \n",
    "    # Code For evaluation...."
   ]
  }
 ],
 "metadata": {
  "kernelspec": {
   "display_name": "Python 3 (ipykernel)",
   "language": "python",
   "name": "python3"
  },
  "language_info": {
   "codemirror_mode": {
    "name": "ipython",
    "version": 3
   },
   "file_extension": ".py",
   "mimetype": "text/x-python",
   "name": "python",
   "nbconvert_exporter": "python",
   "pygments_lexer": "ipython3",
   "version": "3.9.12"
  }
 },
 "nbformat": 4,
 "nbformat_minor": 5
}
