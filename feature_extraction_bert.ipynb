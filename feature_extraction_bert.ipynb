{
 "cells": [
  {
   "cell_type": "code",
   "execution_count": null,
   "metadata": {
    "id": "XMvbSpI-0GbJ"
   },
   "outputs": [],
   "source": [
    "import pandas as pd\n",
    "import numpy as np"
   ]
  },
  {
   "cell_type": "code",
   "execution_count": null,
   "metadata": {
    "id": "MOFgAMhnr-jh"
   },
   "outputs": [],
   "source": [
    "#read train_text\n",
    "msg=pd.read_csv(\"path to train csv file\")"
   ]
  },
  {
   "cell_type": "code",
   "execution_count": null,
   "metadata": {
    "id": "gQKeutZU1Pen"
   },
   "outputs": [],
   "source": [
    "#read test text\n",
    "test=pd.read_csv(\"path to test csv file\")"
   ]
  },
  {
   "cell_type": "code",
   "execution_count": null,
   "metadata": {
    "id": "_hJdBOrLwDW6"
   },
   "outputs": [],
   "source": [
    "text_training=msg[\"Text Transcription\"]\n",
    "text_testing=test[\"Text Transcription\"]"
   ]
  },
  {
   "cell_type": "code",
   "execution_count": null,
   "metadata": {
    "colab": {
     "base_uri": "https://localhost:8080/"
    },
    "id": "sD2U19KXvqrc",
    "outputId": "eb827396-67e0-4d07-b810-bd81a863c1ae"
   },
   "outputs": [
    {
     "name": "stderr",
     "output_type": "stream",
     "text": [
      "Some weights of the model checkpoint at bert-base-uncased were not used when initializing BertModel: ['cls.predictions.transform.LayerNorm.weight', 'cls.predictions.transform.dense.weight', 'cls.predictions.bias', 'cls.predictions.decoder.weight', 'cls.seq_relationship.weight', 'cls.predictions.transform.dense.bias', 'cls.seq_relationship.bias', 'cls.predictions.transform.LayerNorm.bias']\n",
      "- This IS expected if you are initializing BertModel from the checkpoint of a model trained on another task or with another architecture (e.g. initializing a BertForSequenceClassification model from a BertForPreTraining model).\n",
      "- This IS NOT expected if you are initializing BertModel from the checkpoint of a model that you expect to be exactly identical (initializing a BertForSequenceClassification model from a BertForSequenceClassification model).\n"
     ]
    }
   ],
   "source": [
    "from transformers import AutoTokenizer, BertModel\n",
    "import torch\n",
    "\n",
    "tokenizer = AutoTokenizer.from_pretrained(\"bert-base-uncased\")\n",
    "model = BertModel.from_pretrained(\"bert-base-uncased\")\n"
   ]
  },
  {
   "cell_type": "code",
   "execution_count": null,
   "metadata": {
    "id": "vqvoMeJEwVsv"
   },
   "outputs": [],
   "source": [
    "# for training data\n",
    "inputs = tokenizer(text_training[0], return_tensors=\"pt\",truncation=True,max_length=100,padding=\"max_length\")\n",
    "outputs = model(**inputs)\n",
    "bert=outputs.last_hidden_state.detach().numpy()\n",
    "\n",
    "for i in range(1,len(text_training)):\n",
    "  inputs = tokenizer(text_training[i], return_tensors=\"pt\",truncation=True,max_length=100,padding=\"max_length\")\n",
    "  outputs = model(**inputs)\n",
    "  bert=np.append(bert,outputs.last_hidden_state.detach().numpy(),axis=0)\n",
    "  print(i)\n"
   ]
  },
  {
   "cell_type": "code",
   "execution_count": null,
   "metadata": {
    "id": "LMNlHzP40W_G"
   },
   "outputs": [],
   "source": [
    "np.save(\"/gdrive/MyDrive/file/on_original/trainingbertlasthiddenstate\",bert)"
   ]
  },
  {
   "cell_type": "code",
   "execution_count": null,
   "metadata": {
    "id": "Yd_y49J-5K_3"
   },
   "outputs": [],
   "source": [
    "# for testing data\n",
    "\n",
    "inputs = tokenizer(text_testing[0], return_tensors=\"pt\",truncation=True,max_length=128,padding=\"max_length\")\n",
    "outputs = model(**inputs)\n",
    "bert_test=outputs.last_hidden_state.detach().numpy()\n",
    "\n",
    "for i in range(1,len(text_testing)):\n",
    "  inputs = tokenizer(text_testing[i], return_tensors=\"pt\",truncation=True,max_length=128,padding=\"max_length\")\n",
    "  outputs = model(**inputs)\n",
    "  bert_test=np.append(bert_test,outputs.last_hidden_state.detach().numpy(),axis=0)\n",
    "  print(i)"
   ]
  },
  {
   "cell_type": "code",
   "execution_count": null,
   "metadata": {
    "id": "bL7b-8g25cDK"
   },
   "outputs": [],
   "source": [
    "np.save(\"/gdrive/MyDrive/file/on_original/testingbertlasthiddenstate\",bert_test)"
   ]
  }
 ],
 "metadata": {
  "accelerator": "GPU",
  "colab": {
   "provenance": []
  },
  "gpuClass": "standard",
  "kernelspec": {
   "display_name": "Python 3 (ipykernel)",
   "language": "python",
   "name": "python3"
  },
  "language_info": {
   "codemirror_mode": {
    "name": "ipython",
    "version": 3
   },
   "file_extension": ".py",
   "mimetype": "text/x-python",
   "name": "python",
   "nbconvert_exporter": "python",
   "pygments_lexer": "ipython3",
   "version": "3.9.12"
  }
 },
 "nbformat": 4,
 "nbformat_minor": 1
}
