{
  "nbformat": 4,
  "nbformat_minor": 0,
  "metadata": {
    "colab": {
      "provenance": []
    },
    "kernelspec": {
      "name": "python3",
      "display_name": "Python 3"
    },
    "language_info": {
      "name": "python"
    }
  },
  "cells": [
    {
      "cell_type": "code",
      "execution_count": 1,
      "metadata": {
        "colab": {
          "base_uri": "https://localhost:8080/"
        },
        "id": "oFDyMeNASGjy",
        "outputId": "94478ef1-9e5b-4322-d3ea-d567be9b7454"
      },
      "outputs": [
        {
          "output_type": "stream",
          "name": "stdout",
          "text": [
            "Cloning into 'nsfw_model'...\n",
            "remote: Enumerating objects: 487, done.\u001b[K\n",
            "remote: Counting objects: 100% (125/125), done.\u001b[K\n",
            "remote: Compressing objects: 100% (44/44), done.\u001b[K\n",
            "remote: Total 487 (delta 87), reused 81 (delta 81), pack-reused 362 (from 1)\u001b[K\n",
            "Receiving objects: 100% (487/487), 467.21 KiB | 3.09 MiB/s, done.\n",
            "Resolving deltas: 100% (248/248), done.\n"
          ]
        }
      ],
      "source": [
        "!git clone https://github.com/GantMan/nsfw_model"
      ]
    },
    {
      "cell_type": "code",
      "source": [
        "cd nsfw_model"
      ],
      "metadata": {
        "id": "v2Ycw9HhSVG2"
      },
      "execution_count": null,
      "outputs": []
    },
    {
      "cell_type": "code",
      "source": [
        "import tensorflow as tf\n",
        "import keras\n",
        "from keras import models\n",
        "from tensorflow.keras.models import load_model"
      ],
      "metadata": {
        "id": "2GoElSc8TUtG"
      },
      "execution_count": 11,
      "outputs": []
    },
    {
      "cell_type": "code",
      "source": [
        "from nsfw_detector import predict\n",
        "loaded_model = predict.load_model('nsfw.299x299.h5')"
      ],
      "metadata": {
        "id": "foUgKiOhSObO"
      },
      "execution_count": 16,
      "outputs": []
    },
    {
      "cell_type": "code",
      "source": [
        "# Specify the directory containing the images\n",
        "image_folder = \"image folder path\"\n",
        "\n",
        "# Initialize an empty list to hold the scores\n",
        "all_scores = []\n",
        "\n",
        "# Loop over all files in the image folder\n",
        "for image_file in os.listdir(image_folder):\n",
        "    image_path = os.path.join(image_folder, image_file)\n",
        "\n",
        "    # Classify the image\n",
        "    predictions = predict.classify(loaded_model, image_path)\n",
        "\n",
        "    # Extract the scores for the image (without tags)\n",
        "    scores = list(predictions[image_file].values())\n",
        "\n",
        "    # Append the scores to the list\n",
        "    all_scores.append(scores)\n",
        "\n",
        "# Convert the list of scores to a NumPy array\n",
        "scores_array = np.array(all_scores)\n"
      ],
      "metadata": {
        "id": "apGqG9UkV5DX"
      },
      "execution_count": null,
      "outputs": []
    }
  ]
}