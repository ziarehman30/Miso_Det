{
 "cells": [
  {
   "cell_type": "code",
   "execution_count": null,
   "id": "5e9bbe13",
   "metadata": {},
   "outputs": [],
   "source": [
    "import os\n",
    "import pandas as pd\n",
    "from PIL import Image\n",
    "from transformers import AutoProcessor, BlipForConditionalGeneration\n",
    "\n",
    "# Initialize the processor and model\n",
    "processor = AutoProcessor.from_pretrained(\"Salesforce/blip-image-captioning-base\")\n",
    "model = BlipForConditionalGeneration.from_pretrained(\"Salesforce/blip-image-captioning-base\")\n",
    "\n",
    "# Define the folder containing images\n",
    "image_folder = \"image_folder path\"\n",
    "\n",
    "# Lists to store file names and captions\n",
    "file_names = []\n",
    "captions = []\n",
    "\n",
    "# Loop through all files in the image folder\n",
    "for image_filename in os.listdir(image_folder):\n",
    "    if image_filename.endswith(('.png', '.jpg', '.jpeg')):  # Check for image files\n",
    "        image_path = os.path.join(image_folder, image_filename)\n",
    "        image = Image.open(image_path)\n",
    "        text = \" \"\n",
    "\n",
    "        # Process the image\n",
    "        inputs = processor(images=image, text=text, return_tensors=\"pt\")\n",
    "        outputs = model.generate(**inputs)\n",
    "\n",
    "        # Decode the output to get the caption\n",
    "        caption = processor.decode(outputs[0], skip_special_tokens=True)\n",
    "\n",
    "        # Save the filename and caption to the lists\n",
    "        file_names.append(image_filename)\n",
    "        captions.append(caption)\n",
    "\n",
    "# Create a DataFrame from the lists\n",
    "df = pd.DataFrame({\n",
    "    \"filename\": file_names,\n",
    "    \"caption\": captions\n",
    "})\n",
    "\n",
    "# Save the DataFrame to a CSV file\n",
    "output_csv = \"image_captions.csv\"\n",
    "df.to_csv(output_csv, index=False)\n",
    "\n",
    "print(f\"Captions saved to {output_csv}\")\n"
   ]
  }
 ],
 "metadata": {
  "kernelspec": {
   "display_name": "Python 3 (ipykernel)",
   "language": "python",
   "name": "python3"
  },
  "language_info": {
   "codemirror_mode": {
    "name": "ipython",
    "version": 3
   },
   "file_extension": ".py",
   "mimetype": "text/x-python",
   "name": "python",
   "nbconvert_exporter": "python",
   "pygments_lexer": "ipython3",
   "version": "3.9.12"
  }
 },
 "nbformat": 4,
 "nbformat_minor": 5
}
